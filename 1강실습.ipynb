{
  "nbformat": 4,
  "nbformat_minor": 0,
  "metadata": {
    "colab": {
      "provenance": [],
      "gpuType": "V28",
      "authorship_tag": "ABX9TyNruPscjfEW3G6z5rOANExF",
      "include_colab_link": true
    },
    "kernelspec": {
      "name": "python3",
      "display_name": "Python 3"
    },
    "language_info": {
      "name": "python"
    },
    "accelerator": "TPU",
    "widgets": {
      "application/vnd.jupyter.widget-state+json": {
        "ce25fcb74f22450baf23157bb581d74e": {
          "model_module": "@jupyter-widgets/controls",
          "model_name": "HBoxModel",
          "model_module_version": "1.5.0",
          "state": {
            "_dom_classes": [],
            "_model_module": "@jupyter-widgets/controls",
            "_model_module_version": "1.5.0",
            "_model_name": "HBoxModel",
            "_view_count": null,
            "_view_module": "@jupyter-widgets/controls",
            "_view_module_version": "1.5.0",
            "_view_name": "HBoxView",
            "box_style": "",
            "children": [
              "IPY_MODEL_edd3ac4da48c4832a7b3a6039e5f2183",
              "IPY_MODEL_6d0b3386b89a4f7c9ed11bbfff7fb2de",
              "IPY_MODEL_65977fce63384df4a013c35c5f8032ea"
            ],
            "layout": "IPY_MODEL_c3df15e6640d44a79f2551cd94822816"
          }
        },
        "edd3ac4da48c4832a7b3a6039e5f2183": {
          "model_module": "@jupyter-widgets/controls",
          "model_name": "HTMLModel",
          "model_module_version": "1.5.0",
          "state": {
            "_dom_classes": [],
            "_model_module": "@jupyter-widgets/controls",
            "_model_module_version": "1.5.0",
            "_model_name": "HTMLModel",
            "_view_count": null,
            "_view_module": "@jupyter-widgets/controls",
            "_view_module_version": "1.5.0",
            "_view_name": "HTMLView",
            "description": "",
            "description_tooltip": null,
            "layout": "IPY_MODEL_bb0dfe8c626b43a99680f6e51c08a419",
            "placeholder": "​",
            "style": "IPY_MODEL_fafbe9ffe7ff4695831868c3cc596112",
            "value": "Dl Completed...: 100%"
          }
        },
        "6d0b3386b89a4f7c9ed11bbfff7fb2de": {
          "model_module": "@jupyter-widgets/controls",
          "model_name": "FloatProgressModel",
          "model_module_version": "1.5.0",
          "state": {
            "_dom_classes": [],
            "_model_module": "@jupyter-widgets/controls",
            "_model_module_version": "1.5.0",
            "_model_name": "FloatProgressModel",
            "_view_count": null,
            "_view_module": "@jupyter-widgets/controls",
            "_view_module_version": "1.5.0",
            "_view_name": "ProgressView",
            "bar_style": "success",
            "description": "",
            "description_tooltip": null,
            "layout": "IPY_MODEL_20edd0ffb7f74d17ac6e28ec5d0c13f6",
            "max": 5,
            "min": 0,
            "orientation": "horizontal",
            "style": "IPY_MODEL_4be29972e1294597a06f37e2735ebcbe",
            "value": 5
          }
        },
        "65977fce63384df4a013c35c5f8032ea": {
          "model_module": "@jupyter-widgets/controls",
          "model_name": "HTMLModel",
          "model_module_version": "1.5.0",
          "state": {
            "_dom_classes": [],
            "_model_module": "@jupyter-widgets/controls",
            "_model_module_version": "1.5.0",
            "_model_name": "HTMLModel",
            "_view_count": null,
            "_view_module": "@jupyter-widgets/controls",
            "_view_module_version": "1.5.0",
            "_view_name": "HTMLView",
            "description": "",
            "description_tooltip": null,
            "layout": "IPY_MODEL_b8e3c66da7294ec085e3bbdab455c180",
            "placeholder": "​",
            "style": "IPY_MODEL_c27841e31137497a97977a01c67e07a2",
            "value": " 5/5 [00:00&lt;00:00,  9.38 file/s]"
          }
        },
        "c3df15e6640d44a79f2551cd94822816": {
          "model_module": "@jupyter-widgets/base",
          "model_name": "LayoutModel",
          "model_module_version": "1.2.0",
          "state": {
            "_model_module": "@jupyter-widgets/base",
            "_model_module_version": "1.2.0",
            "_model_name": "LayoutModel",
            "_view_count": null,
            "_view_module": "@jupyter-widgets/base",
            "_view_module_version": "1.2.0",
            "_view_name": "LayoutView",
            "align_content": null,
            "align_items": null,
            "align_self": null,
            "border": null,
            "bottom": null,
            "display": null,
            "flex": null,
            "flex_flow": null,
            "grid_area": null,
            "grid_auto_columns": null,
            "grid_auto_flow": null,
            "grid_auto_rows": null,
            "grid_column": null,
            "grid_gap": null,
            "grid_row": null,
            "grid_template_areas": null,
            "grid_template_columns": null,
            "grid_template_rows": null,
            "height": null,
            "justify_content": null,
            "justify_items": null,
            "left": null,
            "margin": null,
            "max_height": null,
            "max_width": null,
            "min_height": null,
            "min_width": null,
            "object_fit": null,
            "object_position": null,
            "order": null,
            "overflow": null,
            "overflow_x": null,
            "overflow_y": null,
            "padding": null,
            "right": null,
            "top": null,
            "visibility": null,
            "width": null
          }
        },
        "bb0dfe8c626b43a99680f6e51c08a419": {
          "model_module": "@jupyter-widgets/base",
          "model_name": "LayoutModel",
          "model_module_version": "1.2.0",
          "state": {
            "_model_module": "@jupyter-widgets/base",
            "_model_module_version": "1.2.0",
            "_model_name": "LayoutModel",
            "_view_count": null,
            "_view_module": "@jupyter-widgets/base",
            "_view_module_version": "1.2.0",
            "_view_name": "LayoutView",
            "align_content": null,
            "align_items": null,
            "align_self": null,
            "border": null,
            "bottom": null,
            "display": null,
            "flex": null,
            "flex_flow": null,
            "grid_area": null,
            "grid_auto_columns": null,
            "grid_auto_flow": null,
            "grid_auto_rows": null,
            "grid_column": null,
            "grid_gap": null,
            "grid_row": null,
            "grid_template_areas": null,
            "grid_template_columns": null,
            "grid_template_rows": null,
            "height": null,
            "justify_content": null,
            "justify_items": null,
            "left": null,
            "margin": null,
            "max_height": null,
            "max_width": null,
            "min_height": null,
            "min_width": null,
            "object_fit": null,
            "object_position": null,
            "order": null,
            "overflow": null,
            "overflow_x": null,
            "overflow_y": null,
            "padding": null,
            "right": null,
            "top": null,
            "visibility": null,
            "width": null
          }
        },
        "fafbe9ffe7ff4695831868c3cc596112": {
          "model_module": "@jupyter-widgets/controls",
          "model_name": "DescriptionStyleModel",
          "model_module_version": "1.5.0",
          "state": {
            "_model_module": "@jupyter-widgets/controls",
            "_model_module_version": "1.5.0",
            "_model_name": "DescriptionStyleModel",
            "_view_count": null,
            "_view_module": "@jupyter-widgets/base",
            "_view_module_version": "1.2.0",
            "_view_name": "StyleView",
            "description_width": ""
          }
        },
        "20edd0ffb7f74d17ac6e28ec5d0c13f6": {
          "model_module": "@jupyter-widgets/base",
          "model_name": "LayoutModel",
          "model_module_version": "1.2.0",
          "state": {
            "_model_module": "@jupyter-widgets/base",
            "_model_module_version": "1.2.0",
            "_model_name": "LayoutModel",
            "_view_count": null,
            "_view_module": "@jupyter-widgets/base",
            "_view_module_version": "1.2.0",
            "_view_name": "LayoutView",
            "align_content": null,
            "align_items": null,
            "align_self": null,
            "border": null,
            "bottom": null,
            "display": null,
            "flex": null,
            "flex_flow": null,
            "grid_area": null,
            "grid_auto_columns": null,
            "grid_auto_flow": null,
            "grid_auto_rows": null,
            "grid_column": null,
            "grid_gap": null,
            "grid_row": null,
            "grid_template_areas": null,
            "grid_template_columns": null,
            "grid_template_rows": null,
            "height": null,
            "justify_content": null,
            "justify_items": null,
            "left": null,
            "margin": null,
            "max_height": null,
            "max_width": null,
            "min_height": null,
            "min_width": null,
            "object_fit": null,
            "object_position": null,
            "order": null,
            "overflow": null,
            "overflow_x": null,
            "overflow_y": null,
            "padding": null,
            "right": null,
            "top": null,
            "visibility": null,
            "width": null
          }
        },
        "4be29972e1294597a06f37e2735ebcbe": {
          "model_module": "@jupyter-widgets/controls",
          "model_name": "ProgressStyleModel",
          "model_module_version": "1.5.0",
          "state": {
            "_model_module": "@jupyter-widgets/controls",
            "_model_module_version": "1.5.0",
            "_model_name": "ProgressStyleModel",
            "_view_count": null,
            "_view_module": "@jupyter-widgets/base",
            "_view_module_version": "1.2.0",
            "_view_name": "StyleView",
            "bar_color": null,
            "description_width": ""
          }
        },
        "b8e3c66da7294ec085e3bbdab455c180": {
          "model_module": "@jupyter-widgets/base",
          "model_name": "LayoutModel",
          "model_module_version": "1.2.0",
          "state": {
            "_model_module": "@jupyter-widgets/base",
            "_model_module_version": "1.2.0",
            "_model_name": "LayoutModel",
            "_view_count": null,
            "_view_module": "@jupyter-widgets/base",
            "_view_module_version": "1.2.0",
            "_view_name": "LayoutView",
            "align_content": null,
            "align_items": null,
            "align_self": null,
            "border": null,
            "bottom": null,
            "display": null,
            "flex": null,
            "flex_flow": null,
            "grid_area": null,
            "grid_auto_columns": null,
            "grid_auto_flow": null,
            "grid_auto_rows": null,
            "grid_column": null,
            "grid_gap": null,
            "grid_row": null,
            "grid_template_areas": null,
            "grid_template_columns": null,
            "grid_template_rows": null,
            "height": null,
            "justify_content": null,
            "justify_items": null,
            "left": null,
            "margin": null,
            "max_height": null,
            "max_width": null,
            "min_height": null,
            "min_width": null,
            "object_fit": null,
            "object_position": null,
            "order": null,
            "overflow": null,
            "overflow_x": null,
            "overflow_y": null,
            "padding": null,
            "right": null,
            "top": null,
            "visibility": null,
            "width": null
          }
        },
        "c27841e31137497a97977a01c67e07a2": {
          "model_module": "@jupyter-widgets/controls",
          "model_name": "DescriptionStyleModel",
          "model_module_version": "1.5.0",
          "state": {
            "_model_module": "@jupyter-widgets/controls",
            "_model_module_version": "1.5.0",
            "_model_name": "DescriptionStyleModel",
            "_view_count": null,
            "_view_module": "@jupyter-widgets/base",
            "_view_module_version": "1.2.0",
            "_view_name": "StyleView",
            "description_width": ""
          }
        }
      }
    }
  },
  "cells": [
    {
      "cell_type": "markdown",
      "metadata": {
        "id": "view-in-github",
        "colab_type": "text"
      },
      "source": [
        "<a href=\"https://colab.research.google.com/github/gutsgutsguts/AiDeep/blob/main/1%EA%B0%95%EC%8B%A4%EC%8A%B5.ipynb\" target=\"_parent\"><img src=\"https://colab.research.google.com/assets/colab-badge.svg\" alt=\"Open In Colab\"/></a>"
      ]
    },
    {
      "cell_type": "code",
      "execution_count": null,
      "metadata": {
        "colab": {
          "base_uri": "https://localhost:8080/"
        },
        "id": "ErOO4Y7uSQr8",
        "outputId": "f1fb0fc1-088c-4cab-a073-86173aea6c26"
      },
      "outputs": [
        {
          "output_type": "stream",
          "name": "stdout",
          "text": [
            "안녕하세요 세상\n"
          ]
        }
      ],
      "source": [
        "print(\"안녕하세요 세상\")"
      ]
    },
    {
      "cell_type": "code",
      "source": [
        "import tensorflow as tf\n",
        "\n",
        "tf.__version__\n"
      ],
      "metadata": {
        "colab": {
          "base_uri": "https://localhost:8080/",
          "height": 35
        },
        "id": "4EWEBc38Tcn9",
        "outputId": "66e38dea-11dc-4ae4-fd26-760bfe429d67"
      },
      "execution_count": null,
      "outputs": [
        {
          "output_type": "execute_result",
          "data": {
            "text/plain": [
              "'2.15.0'"
            ],
            "application/vnd.google.colaboratory.intrinsic+json": {
              "type": "string"
            }
          },
          "metadata": {},
          "execution_count": 3
        }
      ]
    },
    {
      "cell_type": "code",
      "source": [
        "import numpy as np\n",
        "\n",
        "x = np.random.sample((100, 3))\n",
        "\n",
        "dataset = tf.data.Dataset.from_tensor_slices(x)\n",
        "\n",
        "dataset\n",
        "\n",
        "x"
      ],
      "metadata": {
        "colab": {
          "base_uri": "https://localhost:8080/"
        },
        "collapsed": true,
        "id": "EDihML-sTsgt",
        "outputId": "19433969-c6f7-43dd-b40c-48745005cd58"
      },
      "execution_count": null,
      "outputs": [
        {
          "output_type": "execute_result",
          "data": {
            "text/plain": [
              "array([[0.29104839, 0.7722556 , 0.70062846],\n",
              "       [0.15302449, 0.49451428, 0.10715044],\n",
              "       [0.21531087, 0.38184049, 0.32639644],\n",
              "       [0.98239508, 0.46677157, 0.70683465],\n",
              "       [0.16635091, 0.02678751, 0.06281802],\n",
              "       [0.17063538, 0.400352  , 0.85496036],\n",
              "       [0.42305483, 0.35161555, 0.26338696],\n",
              "       [0.97075023, 0.25852964, 0.16240495],\n",
              "       [0.50554551, 0.20991587, 0.22820752],\n",
              "       [0.0421773 , 0.84232759, 0.85427847],\n",
              "       [0.46724304, 0.30527337, 0.41154721],\n",
              "       [0.1874005 , 0.86614739, 0.68370428],\n",
              "       [0.39965536, 0.79728899, 0.85594535],\n",
              "       [0.51642473, 0.88701859, 0.77966521],\n",
              "       [0.28255422, 0.60843952, 0.13078176],\n",
              "       [0.59116417, 0.12912096, 0.47720214],\n",
              "       [0.72625135, 0.74714905, 0.17252393],\n",
              "       [0.63243589, 0.89374254, 0.07604652],\n",
              "       [0.57250156, 0.91095774, 0.79812222],\n",
              "       [0.50098049, 0.40956728, 0.79809843],\n",
              "       [0.25946305, 0.1248502 , 0.26243543],\n",
              "       [0.44416337, 0.92076673, 0.74128525],\n",
              "       [0.5323884 , 0.37180827, 0.96689164],\n",
              "       [0.53091947, 0.27949213, 0.13448788],\n",
              "       [0.4625798 , 0.60424827, 0.54508669],\n",
              "       [0.36839122, 0.76160813, 0.7556264 ],\n",
              "       [0.31565629, 0.9301211 , 0.58460979],\n",
              "       [0.15430494, 0.98045502, 0.29575065],\n",
              "       [0.83655783, 0.87343735, 0.31625131],\n",
              "       [0.43650908, 0.02169069, 0.08256784],\n",
              "       [0.01539424, 0.57311071, 0.06288549],\n",
              "       [0.1356419 , 0.91375253, 0.2445116 ],\n",
              "       [0.46922603, 0.10028842, 0.6534356 ],\n",
              "       [0.3505904 , 0.11718188, 0.39586427],\n",
              "       [0.37096771, 0.53178397, 0.17634168],\n",
              "       [0.44751178, 0.09137484, 0.27540756],\n",
              "       [0.79561657, 0.21130331, 0.29493523],\n",
              "       [0.5081043 , 0.16408696, 0.62232411],\n",
              "       [0.38164183, 0.86801033, 0.81147146],\n",
              "       [0.5075413 , 0.76908116, 0.12602552],\n",
              "       [0.27608822, 0.73141139, 0.4130375 ],\n",
              "       [0.9588299 , 0.34678143, 0.09868517],\n",
              "       [0.53679082, 0.98663373, 0.71439088],\n",
              "       [0.44996733, 0.53606402, 0.32858164],\n",
              "       [0.36156031, 0.52453146, 0.7995139 ],\n",
              "       [0.08933545, 0.82312241, 0.45091159],\n",
              "       [0.08522124, 0.65728606, 0.14719667],\n",
              "       [0.83584491, 0.80040978, 0.91106497],\n",
              "       [0.19440878, 0.62684842, 0.23751921],\n",
              "       [0.89182586, 0.04620998, 0.34338495],\n",
              "       [0.93907965, 0.63698163, 0.13613053],\n",
              "       [0.04063323, 0.28680867, 0.04091241],\n",
              "       [0.36106581, 0.58529008, 0.38699739],\n",
              "       [0.10297015, 0.70441159, 0.05104169],\n",
              "       [0.9496881 , 0.2997439 , 0.01918238],\n",
              "       [0.76192304, 0.78824919, 0.68045911],\n",
              "       [0.52307909, 0.09421269, 0.44620967],\n",
              "       [0.36373224, 0.19912443, 0.8620298 ],\n",
              "       [0.60081884, 0.37304008, 0.5710385 ],\n",
              "       [0.90962943, 0.31895765, 0.54485916],\n",
              "       [0.71363146, 0.91846483, 0.58499339],\n",
              "       [0.71693392, 0.00506694, 0.76655059],\n",
              "       [0.19275893, 0.84815422, 0.59421015],\n",
              "       [0.36752828, 0.6144064 , 0.4716126 ],\n",
              "       [0.71274303, 0.14070703, 0.78540396],\n",
              "       [0.62454574, 0.02492966, 0.18401594],\n",
              "       [0.48739368, 0.70840513, 0.69679626],\n",
              "       [0.7899414 , 0.90789297, 0.48757655],\n",
              "       [0.69670855, 0.23183032, 0.7658562 ],\n",
              "       [0.6874637 , 0.39728048, 0.61419095],\n",
              "       [0.80882504, 0.18910417, 0.23564999],\n",
              "       [0.40905647, 0.03056299, 0.59205636],\n",
              "       [0.74447194, 0.08724742, 0.3617465 ],\n",
              "       [0.93173806, 0.18195723, 0.94243023],\n",
              "       [0.8889603 , 0.86854348, 0.43319513],\n",
              "       [0.62334525, 0.36129765, 0.73583895],\n",
              "       [0.05686306, 0.94337788, 0.62013383],\n",
              "       [0.35340894, 0.95829321, 0.86737878],\n",
              "       [0.02645006, 0.6599168 , 0.78883879],\n",
              "       [0.70934608, 0.29342917, 0.05836158],\n",
              "       [0.0024834 , 0.63603957, 0.3157881 ],\n",
              "       [0.38535141, 0.67839575, 0.73344099],\n",
              "       [0.69538408, 0.00171268, 0.96717206],\n",
              "       [0.45061196, 0.37257989, 0.85363055],\n",
              "       [0.61059712, 0.56820085, 0.91575244],\n",
              "       [0.225993  , 0.01759963, 0.88589292],\n",
              "       [0.76651219, 0.1294976 , 0.29580789],\n",
              "       [0.97600966, 0.28442802, 0.79815545],\n",
              "       [0.04142674, 0.69822105, 0.61335286],\n",
              "       [0.93709498, 0.99215723, 0.14728718],\n",
              "       [0.25224769, 0.38660405, 0.59115911],\n",
              "       [0.63662475, 0.36397377, 0.00770321],\n",
              "       [0.99492539, 0.49938037, 0.89137717],\n",
              "       [0.30758641, 0.34572981, 0.55380202],\n",
              "       [0.77257654, 0.84830913, 0.51199107],\n",
              "       [0.50921069, 0.3766929 , 0.69115221],\n",
              "       [0.70880834, 0.09929882, 0.63505336],\n",
              "       [0.28612955, 0.30901344, 0.21926827],\n",
              "       [0.60944191, 0.31933952, 0.16266251],\n",
              "       [0.98661735, 0.21403501, 0.35586726]])"
            ]
          },
          "metadata": {},
          "execution_count": 6
        }
      ]
    },
    {
      "cell_type": "code",
      "source": [
        "pip install tensorflow-datasets"
      ],
      "metadata": {
        "colab": {
          "base_uri": "https://localhost:8080/"
        },
        "id": "kZgNxTUqV12k",
        "outputId": "55981f0e-912f-4efe-ff37-990ffc667837"
      },
      "execution_count": null,
      "outputs": [
        {
          "output_type": "stream",
          "name": "stdout",
          "text": [
            "Requirement already satisfied: tensorflow-datasets in /usr/local/lib/python3.10/dist-packages (4.9.6)\n",
            "Requirement already satisfied: absl-py in /usr/local/lib/python3.10/dist-packages (from tensorflow-datasets) (1.4.0)\n",
            "Requirement already satisfied: click in /usr/local/lib/python3.10/dist-packages (from tensorflow-datasets) (8.1.7)\n",
            "Requirement already satisfied: dm-tree in /usr/local/lib/python3.10/dist-packages (from tensorflow-datasets) (0.1.8)\n",
            "Requirement already satisfied: immutabledict in /usr/local/lib/python3.10/dist-packages (from tensorflow-datasets) (4.2.0)\n",
            "Requirement already satisfied: numpy in /usr/local/lib/python3.10/dist-packages (from tensorflow-datasets) (1.26.4)\n",
            "Requirement already satisfied: promise in /usr/local/lib/python3.10/dist-packages (from tensorflow-datasets) (2.3)\n",
            "Requirement already satisfied: protobuf>=3.20 in /usr/local/lib/python3.10/dist-packages (from tensorflow-datasets) (3.20.3)\n",
            "Requirement already satisfied: psutil in /usr/local/lib/python3.10/dist-packages (from tensorflow-datasets) (5.9.5)\n",
            "Requirement already satisfied: pyarrow in /usr/local/lib/python3.10/dist-packages (from tensorflow-datasets) (17.0.0)\n",
            "Requirement already satisfied: requests>=2.19.0 in /usr/local/lib/python3.10/dist-packages (from tensorflow-datasets) (2.32.3)\n",
            "Requirement already satisfied: simple-parsing in /usr/local/lib/python3.10/dist-packages (from tensorflow-datasets) (0.1.5)\n",
            "Requirement already satisfied: tensorflow-metadata in /usr/local/lib/python3.10/dist-packages (from tensorflow-datasets) (1.15.0)\n",
            "Requirement already satisfied: termcolor in /usr/local/lib/python3.10/dist-packages (from tensorflow-datasets) (2.4.0)\n",
            "Requirement already satisfied: toml in /usr/local/lib/python3.10/dist-packages (from tensorflow-datasets) (0.10.2)\n",
            "Requirement already satisfied: tqdm in /usr/local/lib/python3.10/dist-packages (from tensorflow-datasets) (4.66.5)\n",
            "Requirement already satisfied: wrapt in /usr/local/lib/python3.10/dist-packages (from tensorflow-datasets) (1.14.1)\n",
            "Requirement already satisfied: array-record>=0.5.0 in /usr/local/lib/python3.10/dist-packages (from tensorflow-datasets) (0.5.1)\n",
            "Requirement already satisfied: etils>=1.6.0 in /usr/local/lib/python3.10/dist-packages (from etils[enp,epath,epy,etree]>=1.6.0; python_version < \"3.11\"->tensorflow-datasets) (1.7.0)\n",
            "Requirement already satisfied: typing_extensions in /usr/local/lib/python3.10/dist-packages (from etils[enp,epath,epy,etree]>=1.6.0; python_version < \"3.11\"->tensorflow-datasets) (4.12.2)\n",
            "Requirement already satisfied: fsspec in /usr/local/lib/python3.10/dist-packages (from etils[enp,epath,epy,etree]>=1.6.0; python_version < \"3.11\"->tensorflow-datasets) (2024.6.1)\n",
            "Requirement already satisfied: importlib_resources in /usr/local/lib/python3.10/dist-packages (from etils[enp,epath,epy,etree]>=1.6.0; python_version < \"3.11\"->tensorflow-datasets) (6.4.4)\n",
            "Requirement already satisfied: zipp in /usr/local/lib/python3.10/dist-packages (from etils[enp,epath,epy,etree]>=1.6.0; python_version < \"3.11\"->tensorflow-datasets) (3.20.1)\n",
            "Requirement already satisfied: charset-normalizer<4,>=2 in /usr/local/lib/python3.10/dist-packages (from requests>=2.19.0->tensorflow-datasets) (3.3.2)\n",
            "Requirement already satisfied: idna<4,>=2.5 in /usr/local/lib/python3.10/dist-packages (from requests>=2.19.0->tensorflow-datasets) (3.8)\n",
            "Requirement already satisfied: urllib3<3,>=1.21.1 in /usr/local/lib/python3.10/dist-packages (from requests>=2.19.0->tensorflow-datasets) (2.0.7)\n",
            "Requirement already satisfied: certifi>=2017.4.17 in /usr/local/lib/python3.10/dist-packages (from requests>=2.19.0->tensorflow-datasets) (2024.8.30)\n",
            "Requirement already satisfied: six in /usr/local/lib/python3.10/dist-packages (from promise->tensorflow-datasets) (1.16.0)\n",
            "Requirement already satisfied: docstring-parser~=0.15 in /usr/local/lib/python3.10/dist-packages (from simple-parsing->tensorflow-datasets) (0.16)\n"
          ]
        }
      ]
    },
    {
      "cell_type": "code",
      "source": [
        "import tensorflow_datasets as tfds\n",
        "\n",
        "ds = tfds.load('mnist', split='train', shuffle_files=True)\n",
        "\n",
        "\n"
      ],
      "metadata": {
        "colab": {
          "base_uri": "https://localhost:8080/",
          "height": 106,
          "referenced_widgets": [
            "ce25fcb74f22450baf23157bb581d74e",
            "edd3ac4da48c4832a7b3a6039e5f2183",
            "6d0b3386b89a4f7c9ed11bbfff7fb2de",
            "65977fce63384df4a013c35c5f8032ea",
            "c3df15e6640d44a79f2551cd94822816",
            "bb0dfe8c626b43a99680f6e51c08a419",
            "fafbe9ffe7ff4695831868c3cc596112",
            "20edd0ffb7f74d17ac6e28ec5d0c13f6",
            "4be29972e1294597a06f37e2735ebcbe",
            "b8e3c66da7294ec085e3bbdab455c180",
            "c27841e31137497a97977a01c67e07a2"
          ]
        },
        "id": "P-7PfgqeWBDp",
        "outputId": "d3119a65-5c12-43e4-f699-e526837bebfe"
      },
      "execution_count": null,
      "outputs": [
        {
          "output_type": "stream",
          "name": "stdout",
          "text": [
            "Downloading and preparing dataset 11.06 MiB (download: 11.06 MiB, generated: 21.00 MiB, total: 32.06 MiB) to /root/tensorflow_datasets/mnist/3.0.1...\n"
          ]
        },
        {
          "output_type": "display_data",
          "data": {
            "text/plain": [
              "Dl Completed...:   0%|          | 0/5 [00:00<?, ? file/s]"
            ],
            "application/vnd.jupyter.widget-view+json": {
              "version_major": 2,
              "version_minor": 0,
              "model_id": "ce25fcb74f22450baf23157bb581d74e"
            }
          },
          "metadata": {}
        },
        {
          "output_type": "stream",
          "name": "stdout",
          "text": [
            "Dataset mnist downloaded and prepared to /root/tensorflow_datasets/mnist/3.0.1. Subsequent calls will reuse this data.\n"
          ]
        }
      ]
    },
    {
      "cell_type": "code",
      "source": [
        "ds"
      ],
      "metadata": {
        "colab": {
          "base_uri": "https://localhost:8080/"
        },
        "id": "3ChFlZ_yWkCR",
        "outputId": "cf3f6813-45b0-4eee-aaed-e485c90602f5"
      },
      "execution_count": null,
      "outputs": [
        {
          "output_type": "execute_result",
          "data": {
            "text/plain": [
              "<_PrefetchDataset element_spec={'image': TensorSpec(shape=(28, 28, 1), dtype=tf.uint8, name=None), 'label': TensorSpec(shape=(), dtype=tf.int64, name=None)}>"
            ]
          },
          "metadata": {},
          "execution_count": 11
        }
      ]
    },
    {
      "cell_type": "code",
      "source": [
        "num_elements = tf.data.experimental.cardinality(ds).numpy()\n",
        "num_elements"
      ],
      "metadata": {
        "colab": {
          "base_uri": "https://localhost:8080/"
        },
        "id": "K7qbT2nXWmVt",
        "outputId": "516088df-b8d6-45e2-a5b0-74d177b6a31f"
      },
      "execution_count": null,
      "outputs": [
        {
          "output_type": "execute_result",
          "data": {
            "text/plain": [
              "60000"
            ]
          },
          "metadata": {},
          "execution_count": 12
        }
      ]
    },
    {
      "cell_type": "code",
      "source": [
        "for i, example in enumerate(ds):\n",
        "    if i >= 20:\n",
        "        break\n",
        "    image, label = example['image'], example['label']\n",
        "    print(image.shape, label)"
      ],
      "metadata": {
        "colab": {
          "base_uri": "https://localhost:8080/"
        },
        "id": "lOtoRjQ5WwRP",
        "outputId": "82218439-7c84-44e0-cda6-03aca996b8c6"
      },
      "execution_count": null,
      "outputs": [
        {
          "output_type": "stream",
          "name": "stdout",
          "text": [
            "(28, 28, 1) tf.Tensor(4, shape=(), dtype=int64)\n",
            "(28, 28, 1) tf.Tensor(1, shape=(), dtype=int64)\n",
            "(28, 28, 1) tf.Tensor(0, shape=(), dtype=int64)\n",
            "(28, 28, 1) tf.Tensor(7, shape=(), dtype=int64)\n",
            "(28, 28, 1) tf.Tensor(8, shape=(), dtype=int64)\n",
            "(28, 28, 1) tf.Tensor(1, shape=(), dtype=int64)\n",
            "(28, 28, 1) tf.Tensor(2, shape=(), dtype=int64)\n",
            "(28, 28, 1) tf.Tensor(7, shape=(), dtype=int64)\n",
            "(28, 28, 1) tf.Tensor(1, shape=(), dtype=int64)\n",
            "(28, 28, 1) tf.Tensor(6, shape=(), dtype=int64)\n",
            "(28, 28, 1) tf.Tensor(6, shape=(), dtype=int64)\n",
            "(28, 28, 1) tf.Tensor(4, shape=(), dtype=int64)\n",
            "(28, 28, 1) tf.Tensor(7, shape=(), dtype=int64)\n",
            "(28, 28, 1) tf.Tensor(7, shape=(), dtype=int64)\n",
            "(28, 28, 1) tf.Tensor(3, shape=(), dtype=int64)\n",
            "(28, 28, 1) tf.Tensor(3, shape=(), dtype=int64)\n",
            "(28, 28, 1) tf.Tensor(7, shape=(), dtype=int64)\n",
            "(28, 28, 1) tf.Tensor(9, shape=(), dtype=int64)\n",
            "(28, 28, 1) tf.Tensor(9, shape=(), dtype=int64)\n",
            "(28, 28, 1) tf.Tensor(1, shape=(), dtype=int64)\n"
          ]
        }
      ]
    },
    {
      "cell_type": "code",
      "source": [
        "import tensorflow as tf\n",
        "\n",
        "data_train, data_test = tf.keras.datasets.mnist.load_data()\n",
        "\n",
        "images_train, labels_train = data_train\n",
        "images_test, labels_test = data_test\n",
        "\n"
      ],
      "metadata": {
        "colab": {
          "base_uri": "https://localhost:8080/"
        },
        "id": "NAbGuIR7aDXD",
        "outputId": "c3766f4e-7f67-42cf-e586-195b216842c7"
      },
      "execution_count": null,
      "outputs": [
        {
          "output_type": "stream",
          "name": "stdout",
          "text": [
            "(60000, 28, 28) (60000,)\n",
            "(10000, 28, 28) (10000,)\n"
          ]
        }
      ]
    },
    {
      "cell_type": "code",
      "source": [
        "for i in range(2)\n",
        "    print({})"
      ],
      "metadata": {
        "id": "m96xqxocagVA"
      },
      "execution_count": null,
      "outputs": []
    }
  ]
}